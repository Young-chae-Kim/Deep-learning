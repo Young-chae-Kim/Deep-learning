{
 "cells": [
  {
   "cell_type": "markdown",
   "metadata": {},
   "source": [
    "# 4장 신경망"
   ]
  },
  {
   "cell_type": "markdown",
   "metadata": {},
   "source": [
    "## 4.1 신경세포 네트워크"
   ]
  },
  {
   "cell_type": "markdown",
   "metadata": {},
   "source": [
    "#### 신경세포 ( Neuron) : 생물체의 신경계에서 정보를 전달하고 기억을 유지하는 역할"
   ]
  },
  {
   "cell_type": "markdown",
   "metadata": {},
   "source": [
    "## 4.2 신경세포의 모델화"
   ]
  },
  {
   "cell_type": "markdown",
   "metadata": {},
   "source": [
    "#### 인공 신경망_ANN ( Artificial Neuron Network ) : 컴퓨터상에서 모델링된 신경세포 네트워크"
   ]
  },
  {
   "cell_type": "markdown",
   "metadata": {},
   "source": [
    "#### 뉴런"
   ]
  },
  {
   "cell_type": "code",
   "execution_count": 6,
   "metadata": {},
   "outputs": [],
   "source": [
    "# 입력 -> 가중치 ->      ->             ->     \n",
    "# 입력 -> 가중치 -> 편향 -> 활성화 함수 -> 출력\n",
    "# 입력 -> 가중치 ->      ->             ->     "
   ]
  },
  {
   "cell_type": "code",
   "execution_count": 7,
   "metadata": {},
   "outputs": [],
   "source": [
    "# 각 입력에 가중치를 곱함\n",
    "# 가중치 : 결합 하중이라 부르며 입력마다 곱하는 값이 다름\n",
    "# 가중치 값이 클수록 더 많은 정보를 전달함"
   ]
  },
  {
   "cell_type": "code",
   "execution_count": 8,
   "metadata": {},
   "outputs": [],
   "source": [
    "# 입력과 가중치의 곱을 모두 합한 값에 편향이라는 상수를 더함\n",
    "# 편향 (bias) : 뉴런의 감도 = 뉴런이 얼마나 쉽게 흥분되는지 결정"
   ]
  },
  {
   "cell_type": "code",
   "execution_count": 9,
   "metadata": {},
   "outputs": [],
   "source": [
    "# 입력과 가중치 곱을 모두 합한 값에 편향을 더한 값은 활성화 함수에 의해 처리됨\n",
    "# 처리되어 뉴런의 흥분상태를 표시하는 신호로 전환됨\n",
    "# 이 신호가 뉴런의 출력\n",
    "# 활성화 함수 : 뉴런을 흥분시키기 위한 함수"
   ]
  },
  {
   "cell_type": "code",
   "execution_count": 10,
   "metadata": {},
   "outputs": [],
   "source": [
    "# x = 뉴런의 입력, w = 가중치, b = 편향, f(u) = 활성화 함수, y = 뉴런의 출력\n",
    "#  y = f( 시그마 (xw) + b )"
   ]
  },
  {
   "cell_type": "code",
   "execution_count": 13,
   "metadata": {},
   "outputs": [],
   "source": [
    "# u = np.dot(x, w) + b\n",
    "# f(u)"
   ]
  },
  {
   "cell_type": "markdown",
   "metadata": {},
   "source": [
    "## 4.3 뉴런의 네트워크화"
   ]
  },
  {
   "cell_type": "markdown",
   "metadata": {},
   "source": [
    "#### 신경망 : 입력층, 은닉층, 출력층"
   ]
  },
  {
   "cell_type": "code",
   "execution_count": 11,
   "metadata": {},
   "outputs": [],
   "source": [
    "# 입력층 : 전체 신경망의 입력값을 받아들임\n",
    "# 은닉층 : 입력층과 출력층 사이에 위치한 층\n",
    "# 출력층 : 전체 신경망의 출력값을 내보냄"
   ]
  },
  {
   "cell_type": "code",
   "execution_count": 12,
   "metadata": {},
   "outputs": [],
   "source": [
    "# 은닉층과 출력층에서만 뉴런의 연산이 이루어짐\n",
    "# 입력층은 입력받은 값을 은닉층으로 전달만 함"
   ]
  },
  {
   "cell_type": "markdown",
   "metadata": {},
   "source": [
    "#### 순전파 ( forward propagation )  : 입력으로부터 시작해 출력으로 정보가 전달되는 것"
   ]
  },
  {
   "cell_type": "markdown",
   "metadata": {},
   "source": [
    "#### 역전파 ( backpropagation ) : 출력에서 입력 방향으로 정보가 반대방향으로 전달되는 것"
   ]
  },
  {
   "cell_type": "code",
   "execution_count": 14,
   "metadata": {},
   "outputs": [],
   "source": [
    "# 앞 층의 모든 뉴런은 뒤 층의 모든 뉴런과 연결되어 있음\n",
    "# 각 뉴런의 입력값에 가중치를 곱함, 앞 층의 뉴런 개수 = m, 뒤 층의 뉴런 개수 =n\n",
    "# -> 뒤 층에는 m * n 개의 가중치가 존재"
   ]
  },
  {
   "cell_type": "markdown",
   "metadata": {},
   "source": [
    "## 4.4 회귀와 분류"
   ]
  },
  {
   "cell_type": "markdown",
   "metadata": {},
   "source": [
    "#### 회귀 : 데이터의 경향성(추세)으로 연속적인 수치를 예측하는 문제"
   ]
  },
  {
   "cell_type": "code",
   "execution_count": 16,
   "metadata": {},
   "outputs": [],
   "source": [
    "# 회귀문제는 출력층의 출력값 = 예측값"
   ]
  },
  {
   "cell_type": "code",
   "execution_count": 17,
   "metadata": {},
   "outputs": [],
   "source": [
    "# 예시\n",
    "# 1. 신장(키) 데이터로 체중 예측\n",
    "# 2. 지금까지의 주가 흐름으로 내일의 주가 예측\n",
    "# 3. 투입한 광고비로 앱 다운로드 수 예측\n",
    "# 4. 사진 속 인물의 신장(키) 예측"
   ]
  },
  {
   "cell_type": "markdown",
   "metadata": {},
   "source": [
    "#### 분류 : 데이터를 정해진 범주에 따라 분류하는 것"
   ]
  },
  {
   "cell_type": "code",
   "execution_count": 18,
   "metadata": {},
   "outputs": [],
   "source": [
    "# 분류문제는 출력층의 값이 가장 큰 값의 범주로 판단"
   ]
  },
  {
   "cell_type": "code",
   "execution_count": 19,
   "metadata": {},
   "outputs": [],
   "source": [
    "# 예시\n",
    "# 1. 잎의 이미지로 식물을 분류\n",
    "# 2. 사진 속 인물을 남녀로 분류\n",
    "# 3. 몸체의 크기와 특징으로 돌고래와 고래를 분류\n",
    "# 4. 손으로 쓴 알파벳을 a부터 z까지 분류"
   ]
  },
  {
   "cell_type": "markdown",
   "metadata": {},
   "source": [
    "## 4.5 활성화 함수"
   ]
  },
  {
   "cell_type": "markdown",
   "metadata": {},
   "source": [
    "#### 활성화 함수 : 뉴런을 흥분시키기 위한 함수"
   ]
  },
  {
   "cell_type": "markdown",
   "metadata": {},
   "source": [
    "### 4.5.1 계단 함수"
   ]
  },
  {
   "cell_type": "code",
   "execution_count": 20,
   "metadata": {},
   "outputs": [],
   "source": [
    "# 함수의 입력값 x가 0이하면 출력값 y는 0\n",
    "# x가 0보다 크면 y는 1"
   ]
  },
  {
   "cell_type": "code",
   "execution_count": 27,
   "metadata": {},
   "outputs": [],
   "source": [
    "# y = { 0 (x<=0)}\n",
    "#     { 1 (x >0)}"
   ]
  },
  {
   "cell_type": "code",
   "execution_count": 1,
   "metadata": {},
   "outputs": [],
   "source": [
    "import numpy as np\n",
    "import matplotlib.pyplot as plt"
   ]
  },
  {
   "cell_type": "code",
   "execution_count": 23,
   "metadata": {},
   "outputs": [
    {
     "data": {
      "image/png": "[encoded data removed]",
      "text/plain": [
       "<Figure size 432x288 with 1 Axes>"
      ]
     },
     "metadata": {
      "needs_background": "light"
     },
     "output_type": "display_data"
    }
   ],
   "source": [
    "def step_function(x):\n",
    "    return np.where(x<=0, 0, 1)\n",
    "\n",
    "x = np.linspace(-5, 5)\n",
    "y = step_function(x)\n",
    "\n",
    "plt.plot(x, y)\n",
    "plt.show()"
   ]
  },
  {
   "cell_type": "code",
   "execution_count": 24,
   "metadata": {},
   "outputs": [],
   "source": [
    "# 장점 : 뉴런의 흥분 상태를 0과 1로 간단하게 표시 가능\n",
    "# 단점 : 0과 1의 중간상태를 나타낼 수 없음"
   ]
  },
  {
   "cell_type": "markdown",
   "metadata": {},
   "source": [
    "### 4.5.2 시그모이드 함수"
   ]
  },
  {
   "cell_type": "code",
   "execution_count": 25,
   "metadata": {},
   "outputs": [],
   "source": [
    "# 함수의 입력값 x가 작을수록 출력값 y는 0에 가까워지고\n",
    "# x가 커지면 y는 1에 가까워짐"
   ]
  },
  {
   "cell_type": "code",
   "execution_count": 26,
   "metadata": {},
   "outputs": [],
   "source": [
    "# y = 1 / 1 + exp(-1)"
   ]
  },
  {
   "cell_type": "code",
   "execution_count": 29,
   "metadata": {},
   "outputs": [
    {
     "data": {
      "image/png": "[encoded data removed]",
      "text/plain": [
       "<Figure size 432x288 with 1 Axes>"
      ]
     },
     "metadata": {
      "needs_background": "light"
     },
     "output_type": "display_data"
    }
   ],
   "source": [
    "def sigmoid_function(x):\n",
    "    return 1/(1+np.exp(-x))\n",
    "\n",
    "x = np.linspace(-5, 5)\n",
    "y = sigmoid_function(x)\n",
    "\n",
    "plt.plot(x, y)\n",
    "plt.show()"
   ]
  },
  {
   "cell_type": "code",
   "execution_count": 30,
   "metadata": {},
   "outputs": [],
   "source": [
    "# 시그모이드 함수는 계단함수에 비해 매끄럽게 이어지는 곡선\n",
    "# 0과 1의 중간 상태를 나태낼 수 있음\n",
    "# 장점 : 미분이 가능함\n",
    "# 시그모이드 함수의 도함수 y' = (1-y)y "
   ]
  },
  {
   "cell_type": "markdown",
   "metadata": {},
   "source": [
    "### 4.5.3 tanh"
   ]
  },
  {
   "cell_type": "code",
   "execution_count": 31,
   "metadata": {},
   "outputs": [],
   "source": [
    "# tanh : 하이퍼볼릭 탄젠트\n",
    "# 함수의 입력값 x가 작을수록 출력값 y는 -1에 가까워지고\n",
    "# x가 커지면 y는 1에 가까워짐"
   ]
  },
  {
   "cell_type": "code",
   "execution_count": 32,
   "metadata": {},
   "outputs": [],
   "source": [
    "# 시그모이드 함수와 비슷한데, 0을 중심으로 대칭 형태이므로 밸런스가 좋은 활성화 함수"
   ]
  },
  {
   "cell_type": "code",
   "execution_count": 33,
   "metadata": {},
   "outputs": [],
   "source": [
    "# y = exp(x) - exp(-x) / exp(x) + exp(-x)"
   ]
  },
  {
   "cell_type": "code",
   "execution_count": 34,
   "metadata": {},
   "outputs": [
    {
     "data": {
      "image/png": "[encoded data removed]",
      "text/plain": [
       "<Figure size 432x288 with 1 Axes>"
      ]
     },
     "metadata": {
      "needs_background": "light"
     },
     "output_type": "display_data"
    }
   ],
   "source": [
    "def tanh_function(x):\n",
    "    return np.tanh(x)\n",
    "\n",
    "x = np.linspace(-5, 5)\n",
    "y = tanh_function(x)\n",
    "\n",
    "plt.plot(x, y)\n",
    "plt.show()"
   ]
  },
  {
   "cell_type": "markdown",
   "metadata": {},
   "source": [
    "### 4.5.4 ReLU"
   ]
  },
  {
   "cell_type": "code",
   "execution_count": 37,
   "metadata": {},
   "outputs": [],
   "source": [
    "# x > 0 인 범위에서 우상향 방향으로 뻗어 올라가는 모양\n",
    "# 함수의 입력값 x가 음수인 경우 함수의 출력값 y는 0\n",
    "# x가 양수인 경우 y는 x와 같은 값"
   ]
  },
  {
   "cell_type": "code",
   "execution_count": 38,
   "metadata": {},
   "outputs": [],
   "source": [
    "# y = { 0 ( x<= 0)}\n",
    "#     { x ( x > 0)}"
   ]
  },
  {
   "cell_type": "code",
   "execution_count": 41,
   "metadata": {},
   "outputs": [
    {
     "data": {
      "image/png": "[encoded data removed]",
      "text/plain": [
       "<Figure size 432x288 with 1 Axes>"
      ]
     },
     "metadata": {
      "needs_background": "light"
     },
     "output_type": "display_data"
    }
   ],
   "source": [
    "def relu_function(x):\n",
    "    return np.where( x<= 0 , 0, x)\n",
    "\n",
    "x = np.linspace(-5, 5)\n",
    "y = relu_function(x)\n",
    "\n",
    "plt.plot(x, y)\n",
    "plt.show()"
   ]
  },
  {
   "cell_type": "code",
   "execution_count": 42,
   "metadata": {},
   "outputs": [],
   "source": [
    "# 간단하면서도 층의 수가 많아져도 안정적으로 학습할 수 있기 때문에 출력층 이외의 층에서 활성화 함수로 많이 사용됨"
   ]
  },
  {
   "cell_type": "code",
   "execution_count": 43,
   "metadata": {},
   "outputs": [],
   "source": [
    "# ReLU 도함수 \n",
    "# y = { 0 (x<=0)}\n",
    "#     { 1 (x> 0)}\n",
    "# 미분값이 x에 상관없이 안정적인 값을 얻는 것이 최대 장점"
   ]
  },
  {
   "cell_type": "markdown",
   "metadata": {},
   "source": [
    "### 4.5.5 Leaky ReLU"
   ]
  },
  {
   "cell_type": "code",
   "execution_count": 44,
   "metadata": {},
   "outputs": [],
   "source": [
    "# x가 음수인 영역에서 그래프 직선이 조금 기울어져 있는 함수"
   ]
  },
  {
   "cell_type": "code",
   "execution_count": 45,
   "metadata": {},
   "outputs": [],
   "source": [
    "# y = { 0.01x (x<=0)}\n",
    "#     { x     (x >0)}"
   ]
  },
  {
   "cell_type": "code",
   "execution_count": 46,
   "metadata": {},
   "outputs": [],
   "source": [
    "# dying ReLU : ReLU에서 출력이 0이되어 더이상 학습이 진행되지 않는 뉴런이 다수 발생하는 현상\n",
    "# dying ReLU 문제를 피할 수 있음"
   ]
  },
  {
   "cell_type": "code",
   "execution_count": 47,
   "metadata": {},
   "outputs": [
    {
     "data": {
      "image/png": "[encoded data removed]",
      "text/plain": [
       "<Figure size 432x288 with 1 Axes>"
      ]
     },
     "metadata": {
      "needs_background": "light"
     },
     "output_type": "display_data"
    }
   ],
   "source": [
    "def leaky_relu_function(x):\n",
    "    return np.where(x <=0, 0.01*x, x)\n",
    "\n",
    "x = np.linspace(-5, 5)\n",
    "y = leaky_relu_function(x)\n",
    "\n",
    "plt.plot(x, y)\n",
    "plt.show()"
   ]
  },
  {
   "cell_type": "markdown",
   "metadata": {},
   "source": [
    "### 4.5.6 항등 함수"
   ]
  },
  {
   "cell_type": "code",
   "execution_count": 49,
   "metadata": {},
   "outputs": [],
   "source": [
    "# 입력값이 그대로 출력값으로 반환되는 함수"
   ]
  },
  {
   "cell_type": "code",
   "execution_count": 50,
   "metadata": {},
   "outputs": [],
   "source": [
    "# y = x"
   ]
  },
  {
   "cell_type": "code",
   "execution_count": 51,
   "metadata": {},
   "outputs": [
    {
     "data": {
      "image/png": "[encoded data removed]",
      "text/plain": [
       "<Figure size 432x288 with 1 Axes>"
      ]
     },
     "metadata": {
      "needs_background": "light"
     },
     "output_type": "display_data"
    }
   ],
   "source": [
    "x = np.linspace(-5, 5)\n",
    "y = x\n",
    "\n",
    "plt.plot(x, y)\n",
    "plt. show()"
   ]
  },
  {
   "cell_type": "code",
   "execution_count": 52,
   "metadata": {},
   "outputs": [],
   "source": [
    "# 회귀 문제를 다룰 때 많이 사용됨\n",
    "# -> 항등 함수는 출력범위에 제한이 없고 연속적이기 때문에"
   ]
  },
  {
   "cell_type": "markdown",
   "metadata": {},
   "source": [
    "### 4.5.7 소프트맥스 함수"
   ]
  },
  {
   "cell_type": "code",
   "execution_count": 53,
   "metadata": {},
   "outputs": [],
   "source": [
    "# 분류문제를 다룰 때 적합"
   ]
  },
  {
   "cell_type": "code",
   "execution_count": 54,
   "metadata": {},
   "outputs": [],
   "source": [
    "# y = exp(x) / 시그마(k=1, n) exp(xk)"
   ]
  },
  {
   "cell_type": "code",
   "execution_count": 55,
   "metadata": {},
   "outputs": [],
   "source": [
    "# 같은 층의 모든 활성화 함수의 출력값을 더하면 1\n",
    "# 한 층에 여러 개의 뉴런이 있고 각 뉴런에서 활성화함수를 통과한 값은 0 ~1 사이\n",
    "# -> 분류문제에서 각 뉴런이 특정한 범주로 분류될 확률을 나타낼 때 사용"
   ]
  },
  {
   "cell_type": "code",
   "execution_count": 56,
   "metadata": {},
   "outputs": [
    {
     "name": "stdout",
     "output_type": "stream",
     "text": [
      "[0.09003057 0.24472847 0.66524096]\n"
     ]
    }
   ],
   "source": [
    "def softmax_function(x):\n",
    "    return np.exp(x)/np.sum(np.exp(x))\n",
    "\n",
    "y = softmax_function(np.array([1,2,3]))\n",
    "print(y)"
   ]
  },
  {
   "cell_type": "markdown",
   "metadata": {},
   "source": [
    "## 4.6 신경망 구현"
   ]
  },
  {
   "cell_type": "code",
   "execution_count": 57,
   "metadata": {},
   "outputs": [],
   "source": [
    "# 보통 딥러닝 학습시, 처음에는 가중치와 편향을 임의로 설정하고 학습하는 과정에서 변화시킴"
   ]
  },
  {
   "cell_type": "markdown",
   "metadata": {},
   "source": [
    "### 4.6.1 단일 뉴런 구현"
   ]
  },
  {
   "cell_type": "code",
   "execution_count": 61,
   "metadata": {},
   "outputs": [
    {
     "data": {
      "image/png": "[encoded data removed]",
      "text/plain": [
       "<Figure size 432x288 with 2 Axes>"
      ]
     },
     "metadata": {
      "needs_background": "light"
     },
     "output_type": "display_data"
    }
   ],
   "source": [
    "# -1 ~ 1까지 0.2 간격으로 각 10개의 값을 넘파이 배열로 저장\n",
    "X = np.arange(-1.0, 1.0, 0.2)\n",
    "Y = np.arange(-1.0, 1.0, 0.2)\n",
    "\n",
    "# 출력값을 저장할 10*10 그리드\n",
    "Z = np.zeros((10,10)) \n",
    "\n",
    "# x, y값의 입력 가중치\n",
    "w_x = 2.5\n",
    "w_y = 3.0\n",
    "\n",
    "# 편향\n",
    "bias = 0.1\n",
    "\n",
    "# 그리드맵의 각 그리드별 뉴런의 연산\n",
    "for i in range(10):\n",
    "    for j in range(10):\n",
    "        \n",
    "        # 입력과 가중치 곱의 합 + 편향\n",
    "        u = X[i]*w_x + Y[j]*w_y + bias\n",
    "        \n",
    "        # 그리드맵에 출력값 저장\n",
    "        y = 1/(1+np.exp(-u))   # 시그모이드 함수\n",
    "        Z[i][j] = y\n",
    "        \n",
    "# 그리드맵 표시\n",
    "plt.imshow(Z, \"gray\", vmin = 0.0, vmax = 1.0)\n",
    "plt.colorbar()\n",
    "plt.show()"
   ]
  },
  {
   "cell_type": "code",
   "execution_count": 62,
   "metadata": {},
   "outputs": [],
   "source": [
    "# 10개의 x값과 10개의 y값 한 쌍마다 출력값이 회색조로 표시\n",
    "# 검은색 출력값이 0 = 뉴런이 흥분하지 않은 상태\n",
    "# 희색 출력값이 1 = 뉴런이 흥분한 상태"
   ]
  },
  {
   "cell_type": "code",
   "execution_count": 63,
   "metadata": {},
   "outputs": [],
   "source": [
    "# 왼쪽위의 검은색 영역 = 출력값이 0에 가까운 영역\n",
    "# 오른쪽 아래의 흰색 영역 = 출력값이 1에 가까운 영역\n",
    "# -> 활성화 함수를 시그모이드 함수로 사용했기 때문에 0과 1 사이를 표현하는 이유로 나타나는 현상"
   ]
  },
  {
   "cell_type": "markdown",
   "metadata": {},
   "source": [
    "### 4.6.2 가중치와 편향의 영향"
   ]
  },
  {
   "cell_type": "markdown",
   "metadata": {},
   "source": [
    "####  - 가중치에 따라"
   ]
  },
  {
   "cell_type": "code",
   "execution_count": 64,
   "metadata": {},
   "outputs": [
    {
     "data": {
      "image/png": "[encoded data removed]",
      "text/plain": [
       "<Figure size 432x288 with 2 Axes>"
      ]
     },
     "metadata": {
      "needs_background": "light"
     },
     "output_type": "display_data"
    }
   ],
   "source": [
    "X = np.arange(-1.0, 1.0, 0.2)\n",
    "Y = np.arange(-1.0, 1.0, 0.2)\n",
    "Z = np.zeros((10,10)) \n",
    "# x, y값의 입력 가중치\n",
    "w_x = -2.5\n",
    "w_y = -3.0\n",
    "# 편향\n",
    "bias = 0.1\n",
    "for i in range(10):\n",
    "    for j in range(10):\n",
    "        u = X[i]*w_x + Y[j]*w_y + bias\n",
    "        y = 1/(1+np.exp(-u))\n",
    "        Z[i][j] = y\n",
    "plt.imshow(Z, \"gray\", vmin = 0.0, vmax = 1.0)\n",
    "plt.colorbar()\n",
    "plt.show()"
   ]
  },
  {
   "cell_type": "code",
   "execution_count": 65,
   "metadata": {},
   "outputs": [
    {
     "data": {
      "image/png": "[encoded data removed]",
      "text/plain": [
       "<Figure size 432x288 with 2 Axes>"
      ]
     },
     "metadata": {
      "needs_background": "light"
     },
     "output_type": "display_data"
    }
   ],
   "source": [
    "X = np.arange(-1.0, 1.0, 0.2)\n",
    "Y = np.arange(-1.0, 1.0, 0.2)\n",
    "Z = np.zeros((10,10)) \n",
    "# x, y값의 입력 가중치\n",
    "w_x = 0\n",
    "w_y = 3.0\n",
    "# 편향\n",
    "bias = 0.1\n",
    "for i in range(10):\n",
    "    for j in range(10):\n",
    "        u = X[i]*w_x + Y[j]*w_y + bias\n",
    "        y = 1/(1+np.exp(-u))\n",
    "        Z[i][j] = y\n",
    "plt.imshow(Z, \"gray\", vmin = 0.0, vmax = 1.0)\n",
    "plt.colorbar()\n",
    "plt.show()"
   ]
  },
  {
   "cell_type": "code",
   "execution_count": 66,
   "metadata": {},
   "outputs": [
    {
     "data": {
      "image/png": "[encoded data removed]",
      "text/plain": [
       "<Figure size 432x288 with 2 Axes>"
      ]
     },
     "metadata": {
      "needs_background": "light"
     },
     "output_type": "display_data"
    }
   ],
   "source": [
    "X = np.arange(-1.0, 1.0, 0.2)\n",
    "Y = np.arange(-1.0, 1.0, 0.2)\n",
    "Z = np.zeros((10,10)) \n",
    "# x, y값의 입력 가중치\n",
    "w_x = 2.5\n",
    "w_y = 0\n",
    "# 편향\n",
    "bias = 0.1\n",
    "for i in range(10):\n",
    "    for j in range(10):\n",
    "        u = X[i]*w_x + Y[j]*w_y + bias\n",
    "        y = 1/(1+np.exp(-u))\n",
    "        Z[i][j] = y\n",
    "plt.imshow(Z, \"gray\", vmin = 0.0, vmax = 1.0)\n",
    "plt.colorbar()\n",
    "plt.show()"
   ]
  },
  {
   "cell_type": "code",
   "execution_count": 67,
   "metadata": {},
   "outputs": [],
   "source": [
    "# 가중치에 따라 뉴런의 흥분조건을 반전시키기도 가능\n",
    "# x 값의 입력 가중치를 0으로 설정한 결과로, 뉴런의 흥분상태가 y값에 의해서만 달라짐"
   ]
  },
  {
   "cell_type": "markdown",
   "metadata": {},
   "source": [
    "####  - 편향에 따라"
   ]
  },
  {
   "cell_type": "code",
   "execution_count": 2,
   "metadata": {},
   "outputs": [
    {
     "data": {
      "image/png": "[encoded data removed]",
      "text/plain": [
       "<Figure size 432x288 with 2 Axes>"
      ]
     },
     "metadata": {
      "needs_background": "light"
     },
     "output_type": "display_data"
    }
   ],
   "source": [
    "X = np.arange(-1.0, 1.0, 0.2)\n",
    "Y = np.arange(-1.0, 1.0, 0.2)\n",
    "Z = np.zeros((10,10)) \n",
    "# x, y값의 입력 가중치\n",
    "w_x = 2.5\n",
    "w_y = 3.0\n",
    "# 편향\n",
    "bias = -2.0\n",
    "for i in range(10):\n",
    "    for j in range(10):\n",
    "        u = X[i]*w_x + Y[j]*w_y + bias\n",
    "        y = 1/(1+np.exp(-u))\n",
    "        Z[i][j] = y\n",
    "plt.imshow(Z, \"gray\", vmin = 0.0, vmax = 1.0)\n",
    "plt.colorbar()\n",
    "plt.show()"
   ]
  },
  {
   "cell_type": "code",
   "execution_count": null,
   "metadata": {},
   "outputs": [],
   "source": [
    "# 아래 그리드맵에 비해 검은색 영역이 넓어 뉴런이 흥분하기 어려운 상태"
   ]
  },
  {
   "cell_type": "code",
   "execution_count": 3,
   "metadata": {},
   "outputs": [
    {
     "data": {
      "image/png": "[encoded data removed]",
      "text/plain": [
       "<Figure size 432x288 with 2 Axes>"
      ]
     },
     "metadata": {
      "needs_background": "light"
     },
     "output_type": "display_data"
    }
   ],
   "source": [
    "X = np.arange(-1.0, 1.0, 0.2)\n",
    "Y = np.arange(-1.0, 1.0, 0.2)\n",
    "Z = np.zeros((10,10)) \n",
    "# x, y값의 입력 가중치\n",
    "w_x = 2.5\n",
    "w_y = 3.0\n",
    "# 편향\n",
    "bias = 0.0\n",
    "for i in range(10):\n",
    "    for j in range(10):\n",
    "        u = X[i]*w_x + Y[j]*w_y + bias\n",
    "        y = 1/(1+np.exp(-u))\n",
    "        Z[i][j] = y\n",
    "plt.imshow(Z, \"gray\", vmin = 0.0, vmax = 1.0)\n",
    "plt.colorbar()\n",
    "plt.show()"
   ]
  },
  {
   "cell_type": "code",
   "execution_count": 4,
   "metadata": {},
   "outputs": [
    {
     "data": {
      "image/png": "[encoded data removed]",
      "text/plain": [
       "<Figure size 432x288 with 2 Axes>"
      ]
     },
     "metadata": {
      "needs_background": "light"
     },
     "output_type": "display_data"
    }
   ],
   "source": [
    "X = np.arange(-1.0, 1.0, 0.2)\n",
    "Y = np.arange(-1.0, 1.0, 0.2)\n",
    "Z = np.zeros((10,10)) \n",
    "# x, y값의 입력 가중치\n",
    "w_x = 2.5\n",
    "w_y = 3.0\n",
    "# 편향\n",
    "bias = 2.0\n",
    "for i in range(10):\n",
    "    for j in range(10):\n",
    "        u = X[i]*w_x + Y[j]*w_y + bias\n",
    "        y = 1/(1+np.exp(-u))\n",
    "        Z[i][j] = y\n",
    "plt.imshow(Z, \"gray\", vmin = 0.0, vmax = 1.0)\n",
    "plt.colorbar()\n",
    "plt.show()"
   ]
  },
  {
   "cell_type": "code",
   "execution_count": 5,
   "metadata": {},
   "outputs": [],
   "source": [
    "# 위의 그리드 맵보다 흰색영역이 넓어 뉴런이 흥분하기 쉬운 상태"
   ]
  },
  {
   "cell_type": "code",
   "execution_count": 6,
   "metadata": {},
   "outputs": [],
   "source": [
    "# 편향 값은 뉴런이 흥분하기 쉬운 정도를 결정"
   ]
  },
  {
   "cell_type": "markdown",
   "metadata": {},
   "source": [
    "### 4.6.3 신경망 구현_회귀"
   ]
  },
  {
   "cell_type": "code",
   "execution_count": null,
   "metadata": {},
   "outputs": [],
   "source": [
    "%matplotlib inline\n",
    "\n",
    "import numpy as np\n",
    "import matplotlib.pypolt as plt"
   ]
  },
  {
   "cell_type": "code",
   "execution_count": 9,
   "metadata": {},
   "outputs": [
    {
     "data": {
      "image/png": "[encoded data removed]",
      "text/plain": [
       "<Figure size 432x288 with 2 Axes>"
      ]
     },
     "metadata": {
      "needs_background": "light"
     },
     "output_type": "display_data"
    }
   ],
   "source": [
    "# x, y값\n",
    "X = np.arange(-1.0, 1.0, 0.2)   # 10개 원소 ( -1부터 1까지 0.2간격씩)\n",
    "Y = np.arange(-1.0, 1.0, 0.2)\n",
    "\n",
    "# 출력을 저장하는 10*10 그리드\n",
    "Z = np.zeros((10, 10))\n",
    "\n",
    "# 가중치\n",
    "w_im = np.array([[4.0,4.0],\n",
    "               [4.0,4.0]])     # 은닉층 2*2 행렬\n",
    "w_mo = np.array([[1.0],\n",
    "                [-1.0]])       # 출력층 2*1 행렬\n",
    "\n",
    "# 입력층의 뉴런 수는 2이고 은닉층의 뉴런 수는 2이므로 은닉층에는 2*2=4개의 가중치 필요\n",
    "# 은닉층 뉴런 수는 2이고 출력층 유런 수는 1이므로 출력층에는 2*1=2개의 가중치 필요\n",
    "\n",
    "\n",
    "# 편향\n",
    "b_im = np.array([3.0,-3.0])   # 은닉층\n",
    "b_mo = np.array([0.1])        # 출력층\n",
    "\n",
    "# 편향은 뉴런 수와 일치하므로 은닉층에는 2개, 출력층에는 1개의 편향 필요\n",
    "\n",
    "\n",
    "# 은닉층\n",
    "def middle_layer(x, w, b):\n",
    "    u = np.dot(x, w) + b\n",
    "    return 1/(1+np.exp(-u))  # 시그모이드 함수\n",
    "\n",
    "# 출력층\n",
    "def output_layer(x, w, b):\n",
    "    u = np.dot(x, w) + b\n",
    "    return u                 # 항등함수\n",
    "\n",
    "# 그리드맵의 각 그리드별 신경망 연산\n",
    "for i in range(10):\n",
    "    for j in range(10):\n",
    "        \n",
    "        # 순전파\n",
    "        inp = np.array([X[i], Y[j]])          # 입력층\n",
    "        mid = middle_layer(inp, w_im, b_im)   # 은닉층\n",
    "        out = output_layer(mid, w_mo, b_mo)   # 출력층\n",
    "        \n",
    "        # 그리드맵에 신경망 출력값 저장\n",
    "        Z[j][i] = out[0]\n",
    "        \n",
    "        # out[0]에 0인 이유 = 출력값을 저장할때 out이 원소 수 1개의 배열이기 때문\n",
    "        \n",
    "# 그리드맵으로 표시\n",
    "plt.imshow(Z, \"gray\", vmin = 0.0, vmax = 1.0)\n",
    "plt.colorbar()\n",
    "plt.show()"
   ]
  },
  {
   "cell_type": "code",
   "execution_count": 10,
   "metadata": {},
   "outputs": [],
   "source": [
    "# 이 신경망은 입력층(뉴런 수 : n=2), 은닉층(n=2), 출력층(n=1)의 3층 구조\n",
    "# 은닉층의 활성화 함수는 시그모이드 함수\n",
    "# 출력층의 활성화 함수는 회귀문제에 적합한 항등함수\n",
    "\n",
    "# 단일 뉴런이였을 때는 흰색과 검은색 영역 두 개로 분할되었지만,\n",
    "# 다수의 뉴련으로 형성된 이 신경망에서는 흰색이 양쪽 검은색 영역 사이에 끼어 있음"
   ]
  },
  {
   "cell_type": "markdown",
   "metadata": {},
   "source": [
    "### 4.6.6 신경망의 표현력"
   ]
  },
  {
   "cell_type": "code",
   "execution_count": 11,
   "metadata": {},
   "outputs": [],
   "source": [
    "# 가중치와 편향을 다양하게 변화시키면 그리드맵에서의 출력 분포가 다양한 형태로 변함\n",
    "# 여러 개의 뉴런을 네트워크로 연결한 신경망을 구축하면 단일 뉴런에 비해 표현력이 향상됨\n",
    "# 뉴런과 층의 수가 증가하면 분포가 조금 더 복잡한 출력도 가능\n",
    "# 복잡한 출력 분포를 이용하면 신경망은 고도의 예측과 분류가 가능"
   ]
  },
  {
   "cell_type": "code",
   "execution_count": 12,
   "metadata": {},
   "outputs": [
    {
     "data": {
      "image/png": "[encoded data removed]",
      "text/plain": [
       "<Figure size 432x288 with 2 Axes>"
      ]
     },
     "metadata": {
      "needs_background": "light"
     },
     "output_type": "display_data"
    }
   ],
   "source": [
    "# x, y값\n",
    "X = np.arange(-1.0, 1.0, 0.2)\n",
    "Y = np.arange(-1.0, 1.0, 0.2)\n",
    "# 출력을 저장하는 10*10 그리드\n",
    "Z = np.zeros((10, 10))\n",
    "\n",
    "# 가중치\n",
    "w_im = np.array([[-5.0,-5.0],\n",
    "               [5.0,-5.0]]) \n",
    "w_mo = np.array([[1.0],\n",
    "                [-1.0]])\n",
    "\n",
    "# 편향\n",
    "b_im = np.array([0.0,0.0])\n",
    "b_mo = np.array([0.0])\n",
    "\n",
    "# 은닉층\n",
    "def middle_layer(x, w, b):\n",
    "    u = np.dot(x, w) + b\n",
    "    return 1/(1+np.exp(-u))  # 시그모이드 함수\n",
    "\n",
    "# 출력층\n",
    "def output_layer(x, w, b):\n",
    "    u = np.dot(x, w) + b\n",
    "    return u                 # 항등함수\n",
    "# 그리드맵의 각 그리드별 신경망 연산\n",
    "for i in range(10):\n",
    "    for j in range(10):\n",
    "        # 순전파\n",
    "        inp = np.array([X[i], Y[j]])          # 입력층\n",
    "        mid = middle_layer(inp, w_im, b_im)   # 은닉층\n",
    "        out = output_layer(mid, w_mo, b_mo)   # 출력층\n",
    "        # 그리드맵에 신경망 출력값 저장\n",
    "        Z[j][i] = out[0]\n",
    "# 그리드맵으로 표시\n",
    "plt.imshow(Z, \"gray\", vmin = 0.0, vmax = 1.0)\n",
    "plt.colorbar()\n",
    "plt.show()"
   ]
  },
  {
   "cell_type": "code",
   "execution_count": 13,
   "metadata": {},
   "outputs": [
    {
     "data": {
      "image/png": "[encoded data removed]",
      "text/plain": [
       "<Figure size 432x288 with 2 Axes>"
      ]
     },
     "metadata": {
      "needs_background": "light"
     },
     "output_type": "display_data"
    }
   ],
   "source": [
    "# x, y값\n",
    "X = np.arange(-1.0, 1.0, 0.2)\n",
    "Y = np.arange(-1.0, 1.0, 0.2)\n",
    "# 출력을 저장하는 10*10 그리드\n",
    "Z = np.zeros((10, 10))\n",
    "\n",
    "# 가중치\n",
    "w_im = np.array([[4.0,4.0],\n",
    "               [4.0,4.0]]) \n",
    "w_mo = np.array([[-1.0],\n",
    "                [1.0]])\n",
    "\n",
    "# 편향\n",
    "b_im = np.array([3.0,-3.0])\n",
    "b_mo = np.array([1.0])\n",
    "\n",
    "# 은닉층\n",
    "def middle_layer(x, w, b):\n",
    "    u = np.dot(x, w) + b\n",
    "    return 1/(1+np.exp(-u))  # 시그모이드 함수\n",
    "\n",
    "# 출력층\n",
    "def output_layer(x, w, b):\n",
    "    u = np.dot(x, w) + b\n",
    "    return u                 # 항등함수\n",
    "# 그리드맵의 각 그리드별 신경망 연산\n",
    "for i in range(10):\n",
    "    for j in range(10):\n",
    "        # 순전파\n",
    "        inp = np.array([X[i], Y[j]])          # 입력층\n",
    "        mid = middle_layer(inp, w_im, b_im)   # 은닉층\n",
    "        out = output_layer(mid, w_mo, b_mo)   # 출력층\n",
    "        # 그리드맵에 신경망 출력값 저장\n",
    "        Z[j][i] = out[0]\n",
    "# 그리드맵으로 표시\n",
    "plt.imshow(Z, \"gray\", vmin = 0.0, vmax = 1.0)\n",
    "plt.colorbar()\n",
    "plt.show()"
   ]
  },
  {
   "cell_type": "code",
   "execution_count": 14,
   "metadata": {},
   "outputs": [
    {
     "data": {
      "image/png": "[encoded data removed]",
      "text/plain": [
       "<Figure size 432x288 with 2 Axes>"
      ]
     },
     "metadata": {
      "needs_background": "light"
     },
     "output_type": "display_data"
    }
   ],
   "source": [
    "# x, y값\n",
    "X = np.arange(-1.0, 1.0, 0.2)\n",
    "Y = np.arange(-1.0, 1.0, 0.2)\n",
    "# 출력을 저장하는 10*10 그리드\n",
    "Z = np.zeros((10, 10))\n",
    "\n",
    "# 가중치\n",
    "w_im = np.array([[-4.0,4.0],\n",
    "               [-4.0,-4.0]]) \n",
    "w_mo = np.array([[1.0],\n",
    "                [-1.0]])\n",
    "\n",
    "# 편향\n",
    "b_im = np.array([3.0,-3.0])\n",
    "b_mo = np.array([0.0])\n",
    "\n",
    "# 은닉층\n",
    "def middle_layer(x, w, b):\n",
    "    u = np.dot(x, w) + b\n",
    "    return 1/(1+np.exp(-u))  # 시그모이드 함수\n",
    "\n",
    "# 출력층\n",
    "def output_layer(x, w, b):\n",
    "    u = np.dot(x, w) + b\n",
    "    return u                 # 항등함수\n",
    "# 그리드맵의 각 그리드별 신경망 연산\n",
    "for i in range(10):\n",
    "    for j in range(10):\n",
    "        # 순전파\n",
    "        inp = np.array([X[i], Y[j]])          # 입력층\n",
    "        mid = middle_layer(inp, w_im, b_im)   # 은닉층\n",
    "        out = output_layer(mid, w_mo, b_mo)   # 출력층\n",
    "        # 그리드맵에 신경망 출력값 저장\n",
    "        Z[j][i] = out[0]\n",
    "# 그리드맵으로 표시\n",
    "plt.imshow(Z, \"gray\", vmin = 0.0, vmax = 1.0)\n",
    "plt.colorbar()\n",
    "plt.show()"
   ]
  },
  {
   "cell_type": "markdown",
   "metadata": {},
   "source": [
    "### 4.6.7 신경망 구현_분류"
   ]
  },
  {
   "cell_type": "code",
   "execution_count": 15,
   "metadata": {},
   "outputs": [],
   "source": [
    "# 층의 개수, 입력층, 은닉층은 회귀 문제와 모두 같으나 출력층의 뉴런이 2개라는 점이 다르다.\n",
    "# 출력층의 활성화 함수는 소프트맥스 함수 사용"
   ]
  },
  {
   "cell_type": "code",
   "execution_count": 16,
   "metadata": {},
   "outputs": [
    {
     "data": {
      "image/png": "[encoded data removed]",
      "text/plain": [
       "<Figure size 432x288 with 1 Axes>"
      ]
     },
     "metadata": {
      "needs_background": "light"
     },
     "output_type": "display_data"
    }
   ],
   "source": [
    "# x, y값\n",
    "X = np.arange(-1.0, 1.0, 0.1)      # 20개 원소 ( -1부터 1까지 0.2간격씩)\n",
    "Y = np.arange(-1.0, 1.0, 0.1)\n",
    "\n",
    "# 가중치\n",
    "w_im = np.array([[1.0,2.0],\n",
    "               [2.0,3.0]])         # 은닉층 2*2 행렬\n",
    "w_mo = np.array([[-1.0,1.0],\n",
    "                [1.0,-1.0]])       # 출력층 2*2 행렬\n",
    "\n",
    "# 입력층의 뉴런 수는 2이고 은닉층의 뉴런 수는 2이므로 은닉층에는 2*2=4개의 가중치 필요\n",
    "# 은닉층 뉴런 수는 2이고 출력층 유런 수는 2이므로 출력층에는 2*2=4개의 가중치 필요\n",
    "\n",
    "\n",
    "# 편향\n",
    "b_im = np.array([0.3,-0.3])        # 은닉층\n",
    "b_mo = np.array([0.4,0.1])         # 출력층\n",
    "\n",
    "# 은닉층\n",
    "def middle_layer(x, w, b):\n",
    "    u = np.dot(x, w) + b\n",
    "    return 1/(1+np.exp(-u))                  # 시그모이드 함수\n",
    "\n",
    "# 출력층\n",
    "def output_layer(x, w, b):\n",
    "    u = np.dot(x, w) + b\n",
    "    return np.exp(u)/np.sum(np.exp(u))       # 소프트맥스 함수\n",
    "\n",
    "# 분류 결과를 저장하는 리스트\n",
    "x_1 = []\n",
    "y_1 = []\n",
    "x_2 = []\n",
    "y_2 = []\n",
    "\n",
    "# 그리드맵의 각 그리드별 신경망 연산\n",
    "for i in range(20):\n",
    "    for j in range(20):\n",
    "        \n",
    "        # 순전파\n",
    "        inp = np.array([X[i], Y[j]])          # 입력층\n",
    "        mid = middle_layer(inp, w_im, b_im)   # 은닉층\n",
    "        out = output_layer(mid, w_mo, b_mo)   # 출력층\n",
    "        \n",
    "        # 확률의 크기를 비교해 분류함\n",
    "        if out[0] > out[1]:\n",
    "            x_1.append(X[i])\n",
    "            y_1.append(Y[j])\n",
    "        else:\n",
    "            x_2.append(X[i])\n",
    "            y_2.append(Y[j])\n",
    "            \n",
    "# 산포도 표시\n",
    "plt.scatter(x_1, y_1, marker=\"+\")\n",
    "plt.scatter(x_2, y_2, marker=\"o\")\n",
    "plt.show()"
   ]
  },
  {
   "cell_type": "code",
   "execution_count": 17,
   "metadata": {},
   "outputs": [],
   "source": [
    "# 회귀와 달리 결과값이 연속적이지 않고 경계가 명확히 구분됨\n",
    "# 분류에서도 신경망의 표현력을 확인할 수 있음(가중치값과 편향을 바꿔가면서)\n",
    "# 층을 더 쌓으면 표현력이 향상됨"
   ]
  },
  {
   "cell_type": "code",
   "execution_count": null,
   "metadata": {},
   "outputs": [],
   "source": []
  }
 ],
 "metadata": {
  "kernelspec": {
   "display_name": "Python 3",
   "language": "python",
   "name": "python3"
  },
  "language_info": {
   "codemirror_mode": {
    "name": "ipython",
    "version": 3
   },
   "file_extension": ".py",
   "mimetype": "text/x-python",
   "name": "python",
   "nbconvert_exporter": "python",
   "pygments_lexer": "ipython3",
   "version": "3.7.9"
  }
 },
 "nbformat": 4,
 "nbformat_minor": 4
}
