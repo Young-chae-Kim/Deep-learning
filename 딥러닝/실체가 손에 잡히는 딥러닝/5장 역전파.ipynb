{
 "cells": [
  {
   "cell_type": "markdown",
   "metadata": {},
   "source": [
    "# 5장 역전파"
   ]
  },
  {
   "cell_type": "markdown",
   "metadata": {},
   "source": [
    "## 5.1 학습규칙"
   ]
  },
  {
   "cell_type": "code",
   "execution_count": 1,
   "metadata": {},
   "outputs": [],
   "source": [
    "# 실제 생물의 신경세포 네트워크에서는 신경세포들의 접속부분인 시냅스에서 결합 강도가 변화함에 따라 학습 발생\n",
    "# 학습 규칙 : 신경망이 학습할 때 결합강도가 어느 정도로 변화하는지 설명한 것"
   ]
  },
  {
   "cell_type": "markdown",
   "metadata": {},
   "source": [
    "### 5.1.1 헵의 규칙"
   ]
  },
  {
   "cell_type": "code",
   "execution_count": 1,
   "metadata": {},
   "outputs": [],
   "source": [
    "# 헵의 규칙 (Hebbian Rule) : 시냅스 가소성에 관한 법칙\n",
    "# 가소성 : 변화된 상태가 계속 유지되는 성질\n",
    "# 시냅스 앞쪽의 심경세포가 흥분하고 이에 따라 시냅스의 뒤쪽 신경세포가 흥분하면 시냅스의 전달 효율이 강화된다는 주장에 근거\n",
    "# 반대로 장기간 흥분이 발생하지 않으면 시냅스의 전달 효율 감퇴\n",
    "\n",
    "# 시냅스의 가소성은 장기 기억과 관련됨\n",
    "# 시냅스 뒤쪽의 신경세포 흥분에 다른 신경세포도 관여하기 때문에 여러 신경세포 연대가 기억 형성에 중요한 역할"
   ]
  },
  {
   "cell_type": "markdown",
   "metadata": {},
   "source": [
    "### 5.1.2 델타 규칙"
   ]
  },
  {
   "cell_type": "code",
   "execution_count": 2,
   "metadata": {},
   "outputs": [],
   "source": [
    "# 델타 규칙 (Delta Rule) : 출력값과 정답의 오차가 커질수록 가중치의 수정량도 커짐_(정답=뉴런의 출력값이 가져야 하는값=실제값)\n",
    "#                          입력값이 커질수록 가중치 수정량이 커집\n",
    "# 신경망의 학습목적 : 출력값과 정답을 일치시키는 것\n",
    "# 델타 규칙에 따라 이상적인 상태에서 벗어날수록 이상적인 형태로 되돌아가기 위한 가중치 수정량이 커지게 됨\n",
    "# 또한 뉴런으로 큰 입력값이 들어오면 시냅스에 강한 자극이 있다고 여겨져 가중치가 큰 폭으로 변화함"
   ]
  },
  {
   "cell_type": "markdown",
   "metadata": {},
   "source": [
    "## 5.2 역전파란"
   ]
  },
  {
   "cell_type": "code",
   "execution_count": 3,
   "metadata": {},
   "outputs": [],
   "source": [
    "# 역전파 : 신경망을 학습시킬 때 이용하는 알고리즘\n",
    "#          출력값과 정답의 오차를 네트워크에서 역전파시켜 네트워크의 가중치와 편향을 최적화시킴\n",
    "# 순전파로 얻은 출력값과 정답과의 오차를 하나씩 층을 거슬러 올라가며 역방향으로 전파\n",
    "# 전파시킨 오차에 근거해 각 층의 가중치와 편향의 수정량을 구함\n",
    "# 모든 층의 가중치와 편향을 조금씩 수정\n",
    "# 이 과정 반복하며 네트워크에서는 점차 오차를 최소화시키도록 최적화되어가는 학습 진행"
   ]
  },
  {
   "cell_type": "code",
   "execution_count": 4,
   "metadata": {},
   "outputs": [],
   "source": [
    "# 역전파 이해하기위해 알아야 하는 5가지 요소\n",
    "# 1. 훈련데이터와 테스트데이터 _ 훈련데이터는 학습에 이용, 테스트데이터는 학습결과 검증에 이용\n",
    "# 2. 손실함수 _ 출력값과 정답의 오차를 정의하는 함수\n",
    "# 3. 경사 하강법 _ 오차를 순차적으로 이전 층으로 전파시켜 가중치와 오차를 조금씩 수정하면서 오차 최소화 시키기\n",
    "# 4. 최적화 알고리즘 _ 경사하강법에서 최적화 알고리즘은 확률적 경사 하강법, 아다그라드 등 있음\n",
    "# 5. 배치 사이즈 _ 가중치와 오차의 수정은 데이터를 그룹으로 묶어서 진행 -> 그룹의 크기 = 배치사이즈"
   ]
  },
  {
   "cell_type": "markdown",
   "metadata": {},
   "source": [
    "## 5.3 훈련데이터와 테스트데이터"
   ]
  },
  {
   "cell_type": "code",
   "execution_count": 5,
   "metadata": {},
   "outputs": [],
   "source": [
    "# 훈련데이터는 신경망 학습에 이용\n",
    "# 테스트데이터는 학습 결과 검증에 이용\n",
    "# 훈련데이터와 테스트데이터는 여러 개의 입력값과 정답의 짝으로 구성됨\n",
    "# 입력값과 정답 한 쌍 = 샘플"
   ]
  },
  {
   "cell_type": "code",
   "execution_count": 6,
   "metadata": {},
   "outputs": [],
   "source": [
    "# 회귀문제 정답 ex) [0.54, -0.34, 1.05, 0.21, -0.84]\n",
    "# 분류문제 정답 ex) [0, 1, 0, 0, 0]\n",
    "# 1이 하나이고 나머지가 0인 수치 벡터를 \"원핫 인코딩(one-hot encoding)\" 이라 함\n",
    "# 원핫 인코딩 : 범주형 변수를 표현하는 방법으로 값 1개만 True(hot)이고 나머지 값은 모두 False(cold)인 인코딩\n",
    "# ex) 데이터에 동물이라는 변수가 있고 개, 고양이, 토끼 3개의 범주가 있다면\n",
    "#     개 = [1,0,0]   고양이 = [0,1,0]   토끼 = [0,0,1]  로 표시"
   ]
  },
  {
   "cell_type": "markdown",
   "metadata": {},
   "source": [
    "## 5.4 손실함수"
   ]
  },
  {
   "cell_type": "code",
   "execution_count": 7,
   "metadata": {},
   "outputs": [],
   "source": [
    "# 손실 함수(loss function) : 출력값과 정답의 오차를 정의하는 함수\n",
    "#                            오차함수나 비용함수라고도 함(cost function)\n",
    "# 오차 : 정답과 출력값의 차이"
   ]
  },
  {
   "cell_type": "markdown",
   "metadata": {},
   "source": [
    "### 5.4.1 오차제곱합"
   ]
  },
  {
   "cell_type": "code",
   "execution_count": null,
   "metadata": {},
   "outputs": [],
   "source": []
  }
 ],
 "metadata": {
  "kernelspec": {
   "display_name": "Python 3",
   "language": "python",
   "name": "python3"
  },
  "language_info": {
   "codemirror_mode": {
    "name": "ipython",
    "version": 3
   },
   "file_extension": ".py",
   "mimetype": "text/x-python",
   "name": "python",
   "nbconvert_exporter": "python",
   "pygments_lexer": "ipython3",
   "version": "3.7.9"
  }
 },
 "nbformat": 4,
 "nbformat_minor": 4
}
