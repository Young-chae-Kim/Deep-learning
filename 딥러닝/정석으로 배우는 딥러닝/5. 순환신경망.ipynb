{
 "cells": [
  {
   "cell_type": "code",
   "execution_count": 6,
   "metadata": {},
   "outputs": [],
   "source": [
    "import numpy as np\n",
    "import pandas as pd"
   ]
  },
  {
   "cell_type": "markdown",
   "metadata": {},
   "source": [
    "### 5.1 기본사항"
   ]
  },
  {
   "cell_type": "code",
   "execution_count": 1,
   "metadata": {},
   "outputs": [],
   "source": [
    "# 5.1.1 시계열 데이터\n",
    "# (x(1), x(2), x(3), ...,x(T))라는 T개의 데이터가 하나의 입력 데이터군이 되며\n",
    "# 이 데이터군을 여러개를 사용 => 시계열 데이터\n",
    "# ex) 1월~6월 전국 강우량으로 7월 강우량 예측할 경우\n",
    "#     2001년~2016년 데이터를 가지고 있다면\n",
    "#     16개의 T = 6인 시계열 데이터를 사용해 예측하는 것\n",
    "# 순환신경망에서는 시계열 데이터 중에서 규칙성이나 패턴이 있는(있다고 보이는)\n",
    "# 데이터를 학습해서 새로운 시계열 데이터가 주어졌을 때 그 데이터의 미래 예측"
   ]
  },
  {
   "cell_type": "code",
   "execution_count": 2,
   "metadata": {},
   "outputs": [],
   "source": [
    "# 5.1.2 과거의 은닉층\n",
    "# 시계열 데이터 예측위해 시간의 개념을 신경망에 도입하려면\n",
    "# 과거의 상태를 모델에 저장해야함 \n",
    "#  => 과거가 현재에 미치는 (눈에 보이지 않는) 영향을 파악해야 함\n",
    "#  ===> \"과거의\" 은닉층\n",
    "# 입력층 - 은닉층 - 출력층\n",
    "# 은닉층에 과거의 은닉층 추가\n",
    "# 은닉층 식 h(t) = f(Ux(t) + Wh(t-1) + b)\n",
    "# 출력층 식 y(t) = g(Vh(t) + c)\n",
    "# 과거로부터 순전파된 항 Wh(t-1)이 은닉층에 추가된다는 점 외에는 일반 신경망과 차이 X\n",
    "# => 모델의 매개변수도 오차역전파법으로 최적화할 수 있음\n",
    "\n",
    "# 오차함수 = 최소화해야 할 '모델의 예측값(y)와 정답인 값t(t)와의 오차'를 나타내는 함수"
   ]
  },
  {
   "cell_type": "code",
   "execution_count": 3,
   "metadata": {},
   "outputs": [],
   "source": [
    "# 5.1.3 Backpropagation Through Time\n",
    "# 순환신경망에서는 순전파일 때 시간 t-1에서의 은닉층 출력 h(t-1)을 생각했으므로\n",
    "# 역전파일 때도 t-1에서의 오차를 생각해야 한다\n",
    "# 이때 오차는 시간을 거슬러 역전파하게 되므로 Backpropagation Through Time(BPTT)라고 함"
   ]
  },
  {
   "cell_type": "code",
   "execution_count": 7,
   "metadata": {},
   "outputs": [],
   "source": [
    "# 5.1.4 구현\n",
    "# 예측에 사용할 데이터는 노이즈가 첨가된 사인파\n",
    "# 사인파 생성\n",
    "def sin(x, T=100):\n",
    "    return np.sin(2.0 * np.pi * x / T)\n",
    "\n",
    "def toy_problem(T=100, ampl=0.05):\n",
    "    x = np.arange(0, 2 * T+1)\n",
    "    noise = ampl * np.random.uniform(low=-1.0, high=1.0, size=len(x))\n",
    "    return sin(x) + noise"
   ]
  },
  {
   "cell_type": "code",
   "execution_count": 8,
   "metadata": {},
   "outputs": [],
   "source": [
    "T = 100\n",
    "f = toy_problem(T)"
   ]
  },
  {
   "cell_type": "code",
   "execution_count": null,
   "metadata": {},
   "outputs": [],
   "source": []
  }
 ],
 "metadata": {
  "kernelspec": {
   "display_name": "Python 3",
   "language": "python",
   "name": "python3"
  },
  "language_info": {
   "codemirror_mode": {
    "name": "ipython",
    "version": 3
   },
   "file_extension": ".py",
   "mimetype": "text/x-python",
   "name": "python",
   "nbconvert_exporter": "python",
   "pygments_lexer": "ipython3",
   "version": "3.7.9"
  }
 },
 "nbformat": 4,
 "nbformat_minor": 4
}
