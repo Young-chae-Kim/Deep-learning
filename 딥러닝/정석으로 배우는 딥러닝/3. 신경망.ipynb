{
 "cells": [
  {
   "cell_type": "markdown",
   "metadata": {},
   "source": [
    "### 3.1 신경망이란?"
   ]
  },
  {
   "cell_type": "code",
   "execution_count": 1,
   "metadata": {},
   "outputs": [],
   "source": [
    "# 3.1.1 뇌와 신경망\n",
    "# 신경망 (neural network) \n",
    "# 인간의 뇌는 뉴런(neuron)이라는 신경세포로 구성\n",
    "# 뉴런과 뉴런 사이는 전기 신호를 통해 정보 전달"
   ]
  },
  {
   "cell_type": "code",
   "execution_count": 2,
   "metadata": {},
   "outputs": [],
   "source": [
    "# 3.1.2 딥러닝과 신경망\n",
    "# 뉴런의 네트워크 안에서 신호가 계층적으로 처리 됨"
   ]
  },
  {
   "cell_type": "markdown",
   "metadata": {},
   "source": [
    "### 3.2 신경망이라는 회로"
   ]
  },
  {
   "cell_type": "code",
   "execution_count": 3,
   "metadata": {},
   "outputs": [],
   "source": [
    "# 3.2.1 단순한 모델화\n",
    "# "
   ]
  },
  {
   "cell_type": "markdown",
   "metadata": {},
   "source": [
    "### 3.3 단순 퍼셉트론"
   ]
  },
  {
   "cell_type": "code",
   "execution_count": 23,
   "metadata": {},
   "outputs": [],
   "source": [
    "# 3.3.2 구현\n",
    "# 뉴런이 발화하지 않는 데이터는 평균값이 0이고,\n",
    "# 뉴런이 발화하는 데이터는 평균값이 5인\n",
    "# 각각 10개의 데이터 생성\n",
    "\n",
    "import numpy as np\n",
    "\n",
    "rng = np.random.RandomState(123)\n",
    "\n",
    "d = 2 # 데이터 차원\n",
    "N = 10 # 각 패턴마다의 데이터 수\n",
    "mean = 5 # 뉴런이 발화하는 데이터의 평균값\n",
    "\n",
    "x1 = rng.randn(N,d) + np.array([0,0])\n",
    "x2 = rng.randn(N,d) + np.array([mean, mean])"
   ]
  },
  {
   "cell_type": "code",
   "execution_count": 24,
   "metadata": {},
   "outputs": [],
   "source": [
    "x = np.concatenate((x1, x2), axis=0)"
   ]
  },
  {
   "cell_type": "code",
   "execution_count": 25,
   "metadata": {},
   "outputs": [],
   "source": [
    "# 생성한 데이터를 퍼셉트론을 통해 분류\n",
    "# 필요한 파라미터 = w(가중치 벡터)와 b(바이어스)\n",
    "# w 와 b 초기화해주기\n",
    "w = np.zeros(d)\n",
    "b = 0"
   ]
  },
  {
   "cell_type": "code",
   "execution_count": 26,
   "metadata": {},
   "outputs": [],
   "source": [
    "# 출력식 ( y = f(w^Tx + b) )정의\n",
    "\n",
    "def y(x):\n",
    "    return step(np.dot(w, x) + b)\n",
    "\n",
    "def step(x):\n",
    "    return 1 * (x > 0)"
   ]
  },
  {
   "cell_type": "code",
   "execution_count": 27,
   "metadata": {},
   "outputs": [],
   "source": [
    "# step(x) = 계단함수\n",
    "# 파라미터 갱신위해 정답 출력값 필요\n",
    "def t(i):\n",
    "    if i < N:\n",
    "        return 0\n",
    "    else:\n",
    "        return 1"
   ]
  },
  {
   "cell_type": "code",
   "execution_count": 28,
   "metadata": {},
   "outputs": [],
   "source": [
    "# 오차정정학습법\n",
    "while True:\n",
    "    #\n",
    "    # 라파미터 갱신처리\n",
    "    # \n",
    "    if '모든 데이터가 제대로 분류됐다면':\n",
    "        break"
   ]
  },
  {
   "cell_type": "code",
   "execution_count": 29,
   "metadata": {},
   "outputs": [],
   "source": [
    "while True:\n",
    "    classified = True\n",
    "    for i in range(N * 2):\n",
    "        delta_w = (t(i) - y(x[i])) * x[i]\n",
    "        delta_b = (t(i) - y(x[i]))\n",
    "        w += delta_w\n",
    "        b += delta_b\n",
    "        classified *= all(delta_w ==0) * (delta_b ==0)\n",
    "    if classified:\n",
    "        break"
   ]
  },
  {
   "cell_type": "code",
   "execution_count": null,
   "metadata": {},
   "outputs": [],
   "source": [
    "s"
   ]
  }
 ],
 "metadata": {
  "kernelspec": {
   "display_name": "Python 3",
   "language": "python",
   "name": "python3"
  },
  "language_info": {
   "codemirror_mode": {
    "name": "ipython",
    "version": 3
   },
   "file_extension": ".py",
   "mimetype": "text/x-python",
   "name": "python",
   "nbconvert_exporter": "python",
   "pygments_lexer": "ipython3",
   "version": "3.7.9"
  }
 },
 "nbformat": 4,
 "nbformat_minor": 4
}
