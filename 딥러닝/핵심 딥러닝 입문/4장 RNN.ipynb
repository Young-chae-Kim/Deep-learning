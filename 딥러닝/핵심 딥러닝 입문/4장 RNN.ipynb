{
 "cells": [
  {
   "cell_type": "markdown",
   "metadata": {},
   "source": [
    "# 4장 RNN"
   ]
  },
  {
   "cell_type": "markdown",
   "metadata": {},
   "source": [
    "## 4.1 RNN 개요"
   ]
  },
  {
   "cell_type": "markdown",
   "metadata": {},
   "source": [
    "### RNN (Reccurent Neural Network)"
   ]
  },
  {
   "cell_type": "markdown",
   "metadata": {},
   "source": [
    "#### - RNN은 은닉층이 순환하는 구조"
   ]
  },
  {
   "cell_type": "code",
   "execution_count": 1,
   "metadata": {},
   "outputs": [],
   "source": [
    "# 은닉층의 출력은 다음본 입력과 한께 은닉층의 입력이 된다.\n",
    "# 은닉층이 이전 은닉층의 영향을 받기 때문에 신경망 자체도 이전 시점의 영향을 받음\n",
    "# -> 과거의 기억을 이용해 판단함"
   ]
  },
  {
   "cell_type": "code",
   "execution_count": 2,
   "metadata": {},
   "outputs": [],
   "source": [
    "# 자연어처럼 매번 입력값의 길이가 다른 데이터를 다룸\n",
    "# -> 시계열데이터를 다룰 때 적용"
   ]
  },
  {
   "cell_type": "code",
   "execution_count": 3,
   "metadata": {},
   "outputs": [],
   "source": [
    "# RNN은 역전파로 학습 가능\n",
    "# 오차의 계산 방법은 일반적인 신경망과 다름\n",
    "# -> 특정 시점에서 오차의 출력 기울기 = 출력층에서 역전파해 온 출력값의 기울기와 이후 시점에서 거슬러 온 출력기울기의 합"
   ]
  },
  {
   "cell_type": "code",
   "execution_count": 4,
   "metadata": {},
   "outputs": [],
   "source": [
    "# RNN은 시계열 형태의 심층 신경망 구조로, 몇개의 층에 걸쳐 오차를 전파시키면 기울기 소실 & 발산 문제 발생\n",
    "# 이전 시점에서 이어받은 데이터에 반복해서 같은 가중치를 곱하기 때문\n",
    "# -> RNN층으로는 단기 기억은 유지되지만 장기 기억을 유지하기 어렵 = 장기 의존성 문제 발생\n",
    "# -> 장기 의존성 문제 해결방안으로 LSTM, GRU가 있음"
   ]
  },
  {
   "cell_type": "markdown",
   "metadata": {},
   "source": [
    "## 4.2 RNN층의 순전파"
   ]
  },
  {
   "cell_type": "markdown",
   "metadata": {},
   "source": [
    "### 4.2.1 순전파의 개요"
   ]
  },
  {
   "cell_type": "code",
   "execution_count": 5,
   "metadata": {},
   "outputs": [],
   "source": [
    "# 1. 현 시점의 입력에 가중치 행렬을 곱한 값\n",
    "# 2. 직전 시점의 출력에 가중치 행렬을 곱한 값\n",
    "# 3. 편향\n",
    "# 4. 활성화 함수(1 + 2 + 3) 처리로 현 시점의 출력값으로 계산"
   ]
  },
  {
   "cell_type": "markdown",
   "metadata": {},
   "source": [
    "### 4.2.2 순전파 수식"
   ]
  },
  {
   "cell_type": "code",
   "execution_count": 6,
   "metadata": {},
   "outputs": [],
   "source": [
    "# 활성화 함수에 입력하기 전 값인 U(t) 행렬 원소를 보면\n",
    "# 각 행은 배치 내의 샘플이고, 각 열은 해당 층에서의 뉴련을 표시\n",
    "# ex) U12(t)는 배치내의 첫 번째 샘플, 층 내의 두번째 뉴런, 시점 t에서의 수치 값"
   ]
  },
  {
   "cell_type": "markdown",
   "metadata": {},
   "source": [
    "### 4.2.3 순전파를 코드로 구현"
   ]
  },
  {
   "cell_type": "code",
   "execution_count": 2,
   "metadata": {},
   "outputs": [],
   "source": [
    "import numpy as np"
   ]
  },
  {
   "cell_type": "code",
   "execution_count": 12,
   "metadata": {},
   "outputs": [],
   "source": [
    "# x:입력  w:가중치  y_prev:이전 시점의 출력  v:가중치  b:편향  f:활성화함수\n",
    "# u = np.dot(x, w) + np.dot(y_prev, v) + b\n",
    "# y = np.tanh(u)"
   ]
  },
  {
   "cell_type": "code",
   "execution_count": 13,
   "metadata": {},
   "outputs": [],
   "source": [
    "# tanh 는 기울기 소실 문제를 방지할 수 있다는 장점 때문에 RNN에서 활성화 함수로 흔히 쓰임"
   ]
  },
  {
   "cell_type": "markdown",
   "metadata": {},
   "source": [
    "## 4.3 RNN층의 역전파"
   ]
  },
  {
   "cell_type": "markdown",
   "metadata": {},
   "source": [
    "### 4.3.3 역전파를 코드로 구현"
   ]
  },
  {
   "cell_type": "code",
   "execution_count": 14,
   "metadata": {},
   "outputs": [],
   "source": [
    "# x:입력  w:가중치  y_prev:이전 시점의 출력  v:가중치  delta:d의 행렬\n",
    "# grad_w += np.dot(x.T, delta)        w의 기울기\n",
    "# grad_v += np.dot(y_prev.T, delta)   v의 기울기\n",
    "# grad_b += np.sum(delta, axis=0)     b의 기울기\n",
    "\n",
    "# grad_x = np.dot(delta, w.T)\n",
    "# grad_y_prev = np.dot(delta, v.T)"
   ]
  },
  {
   "cell_type": "code",
   "execution_count": 15,
   "metadata": {},
   "outputs": [],
   "source": [
    "# W, V, B의 기울기는 모든 시점의 총합이므로 누적 합계를 위해 += 연산자 사용\n",
    "# X, Y의 기울기는 모든 시점의 합을 구할 필요가 없기 때문에 = 연산자 사용"
   ]
  },
  {
   "cell_type": "markdown",
   "metadata": {},
   "source": [
    "## 4.5 간단한 구조의 RNN 구현"
   ]
  },
  {
   "cell_type": "markdown",
   "metadata": {},
   "source": [
    "### 4.5.1 훈련 데이터 생성"
   ]
  },
  {
   "cell_type": "code",
   "execution_count": 17,
   "metadata": {},
   "outputs": [],
   "source": [
    "# RNN에 노이즈가 섞인 sin 곡선을 학습시키고 시계열 데이터를 예측"
   ]
  },
  {
   "cell_type": "code",
   "execution_count": 17,
   "metadata": {},
   "outputs": [
    {
     "data": {
      "image/png": "[encoded data removed]",
      "text/plain": [
       "<Figure size 432x288 with 1 Axes>"
      ]
     },
     "metadata": {
      "needs_background": "light"
     },
     "output_type": "display_data"
    }
   ],
   "source": [
    "import matplotlib.pyplot as plt\n",
    "\n",
    "n_time = 10   # 시점 수\n",
    "n_in = 1      # 입력층 뉴런 수\n",
    "n_mid = 20    # 은닉층 뉴런 수\n",
    "n_out = 1     # 출력층 뉴런 수\n",
    "\n",
    "eta = 0.001   # 학습률\n",
    "epochs = 51\n",
    "batch_size = 8\n",
    "interval = 5  # 경과 표시 간격\n",
    "\n",
    "# 훈련 데이터 생성\n",
    "sin_x = np.linspace(-2*np.pi, 2*np.pi)  # -2ㅠ부터 2ㅠ까지\n",
    "# sin 함수에 무작위로 노이즈 섞기\n",
    "sin_y = np.sin(sin_x) + 0.1*np.random.randn(len(sin_x))\n",
    "plt.plot(sin_x, sin_y)\n",
    "plt.show()"
   ]
  },
  {
   "cell_type": "markdown",
   "metadata": {},
   "source": [
    "### 4.5.2 데이터 전처리"
   ]
  },
  {
   "cell_type": "code",
   "execution_count": 18,
   "metadata": {},
   "outputs": [],
   "source": [
    "n_sample = len(sin_x)-n_time   # 샘플 수\n",
    "input_data = np.zeros((n_sample, n_time, n_in))   # 입력\n",
    "correct_data = np.zeros((n_sample, n_out))        # 정답\n",
    "for i in range(0, n_sample):\n",
    "    input_data[i] = sin_y[i:i+n_time].reshape(-1, 1)\n",
    "    correct_data[i] = sin_y[i+n_time:i+n_time+1]  # 정답은 입력보다 한 시점 뒤"
   ]
  },
  {
   "cell_type": "markdown",
   "metadata": {},
   "source": [
    "### 4.4.1 RNN층 클래스"
   ]
  },
  {
   "cell_type": "code",
   "execution_count": 46,
   "metadata": {},
   "outputs": [],
   "source": [
    "# RNN 층\n",
    "class SimpleRNNLayer:\n",
    "    def __init__(self, n_upper, n):    # 파라미터 초깃값\n",
    "        self.w = np.random.randn(n_upper, n) / np.sqrt(n_upper)   # 자비에르 초기화 기반의 초깃값\n",
    "        self.v = np.random.randn(n, n) / np.sqrt(n)\n",
    "        self.b = np.zeros(n)\n",
    "        \n",
    "    def forward(self, x, y_prev):    # y_prev : 이전 시점의 출력\n",
    "        u = np.dot(x, self.w) + np.dot(y_prev, self.v) + self.b\n",
    "        self.y = np.tanh(u)           # 출력\n",
    "        \n",
    "    def backward(self, x, y, y_prev, grad_y):\n",
    "        delta = grad_y * (1 - y**2)\n",
    "        \n",
    "        # 각 기울기\n",
    "        self.grad_w += np.dot(x.T, delta)\n",
    "        self.grad_v += np.dot(y_prev.T, delta)\n",
    "        self.grad_b += np.sum(delta, axis=0)\n",
    "        \n",
    "        self.grad_x = np.dot(delta, self.w.T)\n",
    "        self.grad_y_prev = np.dot(delta, self.v.T)\n",
    "        \n",
    "        # 역전파 하기 전 누적된 기울기 모두 0으로 리셋\n",
    "    def reset_sum_grad(self):\n",
    "        self.grad_w = np.zeros_like(self.w)\n",
    "        self.grad_v = np.zeros_like(self.v)\n",
    "        self.grad_b = np.zeros_like(self.b)\n",
    "        \n",
    "    def update(self, eta):\n",
    "        self.w -= eta * self.grad_w\n",
    "        self.v -= eta * self.grad_v\n",
    "        self.b -= eta * self.grad_b"
   ]
  },
  {
   "cell_type": "code",
   "execution_count": 47,
   "metadata": {},
   "outputs": [],
   "source": [
    "# 초기화를 위한 __init__메소드와 순전파 forward 메소드, 역전파 backward 메소드\n",
    "# 누적 기울기를 0으로 리셋하는 reset_sum_grad 메소드, 파라미터를 갱신하는 update 메소드 구현"
   ]
  },
  {
   "cell_type": "code",
   "execution_count": 48,
   "metadata": {},
   "outputs": [],
   "source": [
    "# __init__ 메소드에서 각 가중치를 자비에르 초깃값으로, 편향을 0으로 초기화시킴\n",
    "# forward 메소드는 현 시점의 x와 y_prev를 인수로 받아 순전파 방법으로 처리\n",
    "# forward 메소드는 시점만큼 반복하지만, y 값은 각 시점의 backward에서 사용하므로 외부에 저장\n",
    "# backward 메소드는 x,y 등 현 시점의 각 값을 인수로 받음\n",
    "# delta를 구한 다음, 이 값을 이용해 각 기울기 계산\n",
    "# backward 메소드도 시점 수만큼 반복하는데 self.grad_w, self.grad_v, self.grad_b는 반복하는 동안 누적됨\n",
    "# -> 역전파를 시작하기 전 reset_sum_grad메소드로 누적한 기울기를 모두 0으로 리셋시켜야함"
   ]
  },
  {
   "cell_type": "code",
   "execution_count": 49,
   "metadata": {},
   "outputs": [],
   "source": [
    "# 전결합 출력층\n",
    "class OutputLayer:\n",
    "    def __init__(self, n_upper, n):\n",
    "        self.w = np.random.randn(n_upper, n) / np.sqrt(n_upper)\n",
    "        self.b = np.zeros(n)\n",
    "        \n",
    "    def forward(self, x):\n",
    "        self.x = x\n",
    "        u = np.dot(x, self.w) + self.b\n",
    "        self.y = u   # 항등함수\n",
    "        \n",
    "    def backward(self, t):\n",
    "        delta = self.y - t\n",
    "        \n",
    "        self.grad_w = np.dot(self.x.T, delta)\n",
    "        self.grad_b = np.sum(delta, axis=0)\n",
    "        self.grad_x = np.dot(delta, self.w.T)\n",
    "        \n",
    "    def update(self, eta):\n",
    "        self.w -= eta * self.grad_w\n",
    "        self.b -= eta * self.grad_b"
   ]
  },
  {
   "cell_type": "markdown",
   "metadata": {},
   "source": [
    "### 4.5.3 훈련"
   ]
  },
  {
   "cell_type": "code",
   "execution_count": 50,
   "metadata": {},
   "outputs": [],
   "source": [
    "# 각 층의 초기화\n",
    "rnn_layer = SimpleRNNLayer(n_in, n_mid)\n",
    "output_layer = OutputLayer(n_mid, n_out)\n",
    "\n",
    "# 훈련\n",
    "def train(x_mb, t_mb):\n",
    "    # 순전파 RNN층\n",
    "    y_rnn = np.zeros((len(x_mb), n_time+1, n_mid))\n",
    "    y_prev = y_rnn[:, 0, :]\n",
    "    for i in range(n_time):\n",
    "        x = x_mb[:, i, :]\n",
    "        rnn_layer.forward(x, y_prev)\n",
    "        y = rnn_layer.y\n",
    "        y_rnn[:, i+1, :] = y\n",
    "        y_prev = y\n",
    "        \n",
    "    # 순전파 출력층\n",
    "    output_layer.forward(y)\n",
    "    \n",
    "    # 역전파 출력층\n",
    "    output_layer.backward(t_mb)\n",
    "    grad_y = output_layer.grad_x\n",
    "    \n",
    "    # 역전파 RNN층\n",
    "    rnn_layer.reset_sum_grad()\n",
    "    for i in reversed(range(n_time)):\n",
    "        x = x_mb[:, i, :]\n",
    "        y = y_rnn[:, i+1, :]\n",
    "        y_prev = y_rnn[:, i, :]\n",
    "        rnn_layer.backward(x, y, y_prev, grad_y)\n",
    "        grad_y = rnn_layer.grad_y_prev\n",
    "        \n",
    "        # 파라미터 갱신\n",
    "        rnn_layer.update(eta)\n",
    "        output_layer.update(eta)"
   ]
  },
  {
   "cell_type": "code",
   "execution_count": 51,
   "metadata": {},
   "outputs": [],
   "source": [
    "# RNN에서 역전파할 때 순전파시점에서 출력등의 시계열 데이터를 미리 저장해둘 필요가 있음\n",
    "# -> 메모리 절약을 위해 훈련과 예측 함수 따로 만듦"
   ]
  },
  {
   "cell_type": "code",
   "execution_count": 52,
   "metadata": {},
   "outputs": [],
   "source": [
    "# 각 층을 초기화 시키고 RNN 모델을 학습시킴\n",
    "# for문으로 RNN층의 순전파와 역전파를 시점의 수만큼 반복\n",
    "# 시간은 거슬러 오르기 때문에 역전파의 반복방향은 순전파의 반대방향이 됨\n",
    "# 순전파에서는 다음 시점의 출력 y, 역전파에서는 이전 시점의 출력 기울기 grad_y를 전파함\n",
    "# 순전파에서 RNN층의 출력 y를 y_rnn에 시점 순으로 저장함\n",
    "# 역전파 때는 같은 시점의 y 및 y_prev를 backward 메소드로 전달함\n",
    "# -> RNN층에서 역전파할 때 해당 시점 근처의 값들 필요"
   ]
  },
  {
   "cell_type": "markdown",
   "metadata": {},
   "source": [
    "### 4.5.4 예측"
   ]
  },
  {
   "cell_type": "code",
   "execution_count": 53,
   "metadata": {},
   "outputs": [],
   "source": [
    "# train 함수와 동일하게 내부에서 순전파를 구현하지만, 출력값을 저장할 필요가 없기 때문에 코드가 짧음"
   ]
  },
  {
   "cell_type": "code",
   "execution_count": 54,
   "metadata": {},
   "outputs": [],
   "source": [
    "# 예측\n",
    "def predict(x_mb):\n",
    "    # 순전파 RNN층\n",
    "    y_prev = np.zeros((len(x_mb), n_mid))\n",
    "    for i in range(n_time):\n",
    "        x = x_mb[:, i, :]\n",
    "        rnn_layer.forward(x, y_prev)\n",
    "        y = rnn_layer.y\n",
    "        y_prev = y\n",
    "        \n",
    "    # 순전파 출력층\n",
    "    output_layer.forward(y)\n",
    "    return output_layer.y"
   ]
  },
  {
   "cell_type": "code",
   "execution_count": 56,
   "metadata": {},
   "outputs": [
    {
     "name": "stdout",
     "output_type": "stream",
     "text": [
      "Epoch:51/51 Error:0.2778498332864391\n"
     ]
    },
    {
     "data": {
      "image/png": "[encoded data removed]",
      "text/plain": [
       "<Figure size 432x288 with 1 Axes>"
      ]
     },
     "metadata": {
      "needs_background": "light"
     },
     "output_type": "display_data"
    },
    {
     "data": {
      "image/png": "[encoded data removed]",
      "text/plain": [
       "<Figure size 432x288 with 1 Axes>"
      ]
     },
     "metadata": {
      "needs_background": "light"
     },
     "output_type": "display_data"
    }
   ],
   "source": [
    "# 오차계산\n",
    "def get_error(x, t):\n",
    "    y = predict(x)\n",
    "    return 1.0/2.0*np.sum(np.square(y - t))   # 오차제곱합\n",
    "\n",
    "error_record = []\n",
    "n_batch = len(input_data) // batch_size       # 1에포크당 배치 개수\n",
    "for i in range(epochs):\n",
    "    \n",
    "    # 학습\n",
    "    index_random = np.arange(len(input_data))\n",
    "    np.random.shuffle(index_random)           # 인덱스 임의로 섞기\n",
    "    for j in range(n_batch):\n",
    "        \n",
    "        # 미니 배치 데이터 훈련\n",
    "        mb_index = index_random[j*batch_size : (j+1)*batch_size]\n",
    "        x_mb = input_data[mb_index, :]\n",
    "        t_mb = correct_data[mb_index, :]\n",
    "        train(x_mb, t_mb)\n",
    "        \n",
    "# 오차 구하기\n",
    "error = get_error(input_data, correct_data)\n",
    "error_record.append(error)\n",
    "\n",
    "# 경과 표시\n",
    "if i%interval == 0:\n",
    "    print(\"Epoch:\"+str(i+1)+\"/\"+str(epochs),\n",
    "         \"Error:\"+str(error))\n",
    "    predicted = input_data[0].reshape(-1).tolist()   # 최초입력\n",
    "    for i in range(n_sample):\n",
    "        x = np.array(predicted[-n_time:]).reshape(1,n_time, 1)\n",
    "        y = predict(x)\n",
    "        # 출력을 predicted에 추가하기\n",
    "        predicted.append(float(y[0,0]))\n",
    "        \n",
    "    \n",
    "    plt.plot(range(len(sin_y)), sin_y.tolist(), label=\"Correct\")\n",
    "    plt.plot(range(len(predicted)), predicted, label=\"Predicted\")\n",
    "    plt.legend()\n",
    "    plt.show()\n",
    "    \n",
    "plt.plot(range(1, len(error_record)+1), error_record)\n",
    "plt.xlabel(\"Epochs\")\n",
    "plt.ylabel(\"Error\")\n",
    "plt.show()"
   ]
  },
  {
   "cell_type": "code",
   "execution_count": null,
   "metadata": {},
   "outputs": [],
   "source": [
    "# "
   ]
  },
  {
   "cell_type": "code",
   "execution_count": null,
   "metadata": {},
   "outputs": [],
   "source": []
  },
  {
   "cell_type": "markdown",
   "metadata": {},
   "source": [
    "## 4.6 2진수 덧셈 학습"
   ]
  },
  {
   "cell_type": "markdown",
   "metadata": {},
   "source": [
    "### 4.6.2 2진수 준비"
   ]
  },
  {
   "cell_type": "code",
   "execution_count": 61,
   "metadata": {},
   "outputs": [
    {
     "name": "stdout",
     "output_type": "stream",
     "text": [
      "[[0 0 0 ... 0 0 0]\n",
      " [0 0 0 ... 0 0 1]\n",
      " [0 0 0 ... 0 1 0]\n",
      " ...\n",
      " [1 1 1 ... 1 0 1]\n",
      " [1 1 1 ... 1 1 0]\n",
      " [1 1 1 ... 1 1 1]]\n"
     ]
    }
   ],
   "source": [
    "import numpy as np\n",
    "import matplotlib.pyplot as plt\n",
    "\n",
    "# 각 설정값\n",
    "n_time = 8       # 시점의 수(2진수의 자릿수)\n",
    "n_in = 2         # 입력층 뉴런의 수\n",
    "n_mid = 32       # 은닉층 뉴런의 수\n",
    "n_out = 1        # 출력층 뉴런의 수\n",
    "\n",
    "eta = 0.01       # 학습률\n",
    "n_learn = 5001   # 학습 횟수\n",
    "interval = 500   # 경과 표시 간격\n",
    "\n",
    "# 2진수 생성\n",
    "max_num = 2**n_time    # 10진수 최댓값\n",
    "# 2진수를 저장하는 배열\n",
    "binaries = np.zeros((max_num, n_time), dtype=int)\n",
    "for i in range(max_num):\n",
    "    num10 = i                           # 10진수 수\n",
    "    for j in range(n_time):\n",
    "        pow2 = 2 ** (n_time-1-j)        # 2의 거듭제곱\n",
    "        binaries[i,j] = num10 // pow2   # 나눈 결과의 정수 부분만 저장\n",
    "        num10 %= pow2                   # 나눈 몫을 다시 10진수에 저장\n",
    "print(binaries)"
   ]
  },
  {
   "cell_type": "code",
   "execution_count": 62,
   "metadata": {},
   "outputs": [],
   "source": [
    "# RNN층\n",
    "class SimpleRNNLayer:\n",
    "    def __init__(self, n_upper, n):\n",
    "        # 파라미터 초깃값\n",
    "        # 자비에르 초기화 기반의 초깃값\n",
    "        self.w = np.random.randn(n_upper, n) / np.sqrt(n_upper)\n",
    "        self.v = np.random.randn(n, n) / np.sqrt(n)\n",
    "        self.b = np.zeros(n)\n",
    "        \n",
    "    def forward(self, x, y_prev):  # y_prev : 이전 시점의 출력\n",
    "        u = np.dot(x, self.w) + np.dot(y_prev, self.v) + self.b\n",
    "        self.y = np.tanh(u)        # 출력\n",
    "        \n",
    "    def backward(self, x, y, y_prev, grad_y):\n",
    "        delta = grad_y * (1 - y**2)\n",
    "        \n",
    "        # 각 기울기\n",
    "        self.grad_w += np.dot(x.T, delta)\n",
    "        self.grad_v += np.dot(y_prev.T, delta)\n",
    "        self.grad_b += np.sum(delta, axis=0)\n",
    "        \n",
    "        self.grad_x = np.dot(delta, self.w.T)\n",
    "        self.grad_y_prev = np.dot(delta, self.v.T)\n",
    "        \n",
    "        \n",
    "    def reset_sum_grad(self):\n",
    "        self.grad_w = np.zeros_like(self.w)\n",
    "        self.grad_v = np.zeros_like(self.v)\n",
    "        self.grad_b = np.zeros_like(self.b)\n",
    "        \n",
    "    def update(self, eta):\n",
    "        self.w -= eta * self.grad_w\n",
    "        self.v -= eta * self.grad_v\n",
    "        self.b -= eta * self.grad_b"
   ]
  },
  {
   "cell_type": "markdown",
   "metadata": {},
   "source": [
    "### 4.6.3 출력층"
   ]
  },
  {
   "cell_type": "code",
   "execution_count": 63,
   "metadata": {},
   "outputs": [],
   "source": [
    "# 전결합 출력층\n",
    "class RNNOutputLayer:\n",
    "    def __init__(self, n_upper, n):\n",
    "        self.w = np.random.randn(n_upper, n) / np.sqrt(n_upper)\n",
    "        self.b = np.zeros(n)\n",
    "        \n",
    "    def forward(self, x):\n",
    "        self.x = x\n",
    "        u = np.dot(x, self.w) + self.b\n",
    "        self.y = 1/(1+np.exp(-u))    # 시그모이드 함수\n",
    "        \n",
    "    def backward(self, x, y, t):\n",
    "        delta = (y-t) * y * (1-y)\n",
    "        self.grad_w += np.dot(x.T, delta)\n",
    "        self.grad_b += np.sum(delta, axis=0)\n",
    "        self.grad_x = np.dot(delta, self.w.T)\n",
    "        \n",
    "    def reset_sum_grad(self):\n",
    "        self.grad_w = np.zeros_like(self.w)\n",
    "        self.grad_b = np.zeros_like(self.b)\n",
    "        \n",
    "    def update(self, eta):\n",
    "        self.w -= eta * self.grad_w\n",
    "        self.b -= eta * self.grad_b"
   ]
  },
  {
   "cell_type": "code",
   "execution_count": 64,
   "metadata": {},
   "outputs": [],
   "source": [
    "# 모든 시점의 출력층 값을 사용하기 때문에 각 시점별 출력층 필요\n",
    "# backward 메소드가 외부에서 현 시점의 x, y, t를 전달받음\n",
    "# backward 메소드에서 가중치 기울기 grad_w와 편향 기울기 grad_b는 누적됨"
   ]
  },
  {
   "cell_type": "code",
   "execution_count": 65,
   "metadata": {},
   "outputs": [],
   "source": [
    "# 활성화 함수에서는 해당 자릿수의 값을 0 ~ 1 로 예측하므로 시그모이드 함수 사용\n",
    "# 오차 함수는 오차제곱합을 사용\n",
    "# 입력 기울기 grad_x 는 앞 층의 RNN층으로 전파됨"
   ]
  },
  {
   "cell_type": "markdown",
   "metadata": {},
   "source": [
    "### 4.6.4 훈련"
   ]
  },
  {
   "cell_type": "code",
   "execution_count": 60,
   "metadata": {},
   "outputs": [
    {
     "name": "stdout",
     "output_type": "stream",
     "text": [
      "n_learn: 0\n",
      "error: 0.9726639463067429\n",
      "output : [0 0 1 0 0 0 1 1]\n",
      "correct: [0 1 0 0 0 1 1 0]\n",
      "orz: 32 + 38 = 35\n",
      "-- -- -- -- -- -- -- -- -- -- -- -- -- -- --\n",
      "n_learn: 500\n",
      "error: 0.9849353411024301\n",
      "output : [1 1 0 0 1 0 1 1]\n",
      "correct: [1 1 0 0 0 0 1 0]\n",
      "orz: 117 + 77 = 203\n",
      "-- -- -- -- -- -- -- -- -- -- -- -- -- -- --\n",
      "n_learn: 1000\n",
      "error: 0.6728409908855167\n",
      "output : [0 0 1 0 1 1 0 0]\n",
      "correct: [0 1 1 0 1 1 0 0]\n",
      "orz: 22 + 86 = 44\n",
      "-- -- -- -- -- -- -- -- -- -- -- -- -- -- --\n",
      "n_learn: 1500\n",
      "error: 0.7800804834859074\n",
      "output : [0 1 1 0 1 1 1 1]\n",
      "correct: [0 1 0 0 1 0 1 1]\n",
      "orz: 19 + 56 = 111\n",
      "-- -- -- -- -- -- -- -- -- -- -- -- -- -- --\n",
      "n_learn: 2000\n",
      "error: 0.487009084683447\n",
      "output : [0 0 1 1 0 1 0 0]\n",
      "correct: [0 0 1 1 0 1 0 0]\n",
      "\\(^_^)/ :11 + 41 = 52\n",
      "-- -- -- -- -- -- -- -- -- -- -- -- -- -- --\n",
      "n_learn: 2500\n",
      "error: 0.2836912589004077\n",
      "output : [0 0 1 0 0 1 0 0]\n",
      "correct: [0 1 1 0 0 1 0 0]\n",
      "orz: 96 + 4 = 36\n",
      "-- -- -- -- -- -- -- -- -- -- -- -- -- -- --\n",
      "n_learn: 3000\n",
      "error: 0.20032137324622779\n",
      "output : [1 0 0 1 0 1 0 1]\n",
      "correct: [1 0 0 1 0 1 0 1]\n",
      "\\(^_^)/ :77 + 72 = 149\n",
      "-- -- -- -- -- -- -- -- -- -- -- -- -- -- --\n",
      "n_learn: 3500\n",
      "error: 0.24656084720538937\n",
      "output : [0 1 0 0 0 1 1 1]\n",
      "correct: [0 1 0 0 0 1 1 1]\n",
      "\\(^_^)/ :58 + 13 = 71\n",
      "-- -- -- -- -- -- -- -- -- -- -- -- -- -- --\n",
      "n_learn: 4000\n",
      "error: 0.1519530035822172\n",
      "output : [0 1 1 0 0 0 1 0]\n",
      "correct: [0 1 1 0 0 0 1 0]\n",
      "\\(^_^)/ :70 + 28 = 98\n",
      "-- -- -- -- -- -- -- -- -- -- -- -- -- -- --\n",
      "n_learn: 4500\n",
      "error: 0.06412916289590001\n",
      "output : [1 1 0 1 1 1 0 0]\n",
      "correct: [1 1 0 1 1 1 0 0]\n",
      "\\(^_^)/ :114 + 106 = 220\n",
      "-- -- -- -- -- -- -- -- -- -- -- -- -- -- --\n",
      "n_learn: 5000\n",
      "error: 0.03175462728806714\n",
      "output : [1 0 0 1 0 1 0 1]\n",
      "correct: [1 0 0 1 0 1 0 1]\n",
      "\\(^_^)/ :108 + 41 = 149\n",
      "-- -- -- -- -- -- -- -- -- -- -- -- -- -- --\n"
     ]
    }
   ],
   "source": [
    "# 각 층의 초기화\n",
    "rnn_layer = SimpleRNNLayer(n_in, n_mid)\n",
    "output_layer = RNNOutputLayer(n_mid, n_out)\n",
    "\n",
    "\n",
    "# 훈련\n",
    "def train(x_mb, t_mb):\n",
    "    # 각 출력값을 저장하는 배열\n",
    "    y_rnn = np.zeros((len(x_mb), n_time+1, n_mid))\n",
    "    y_out = np.zeros((len(x_mb), n_time, n_out))\n",
    "    \n",
    "    # 순전파\n",
    "    y_prev = y_rnn[:, 0, :]\n",
    "    for i in range(n_time):\n",
    "        # RNN층\n",
    "        x = x_mb[:, i, :]\n",
    "        rnn_layer.forward(x, y_prev)\n",
    "        y = rnn_layer.y\n",
    "        y_rnn[:, i+1, :] = y\n",
    "        y_prev = y\n",
    "        \n",
    "        # 출력층\n",
    "        output_layer.forward(y)\n",
    "        y_out[:, i, :] = output_layer.y\n",
    "        \n",
    "    # 역전파\n",
    "    output_layer.reset_sum_grad()\n",
    "    rnn_layer.reset_sum_grad()\n",
    "    grad_y = 0\n",
    "    for i in reversed(range(n_time)):\n",
    "        # 출력층\n",
    "        x = y_rnn[:, i+1, :]\n",
    "        y = y_out[:, i, :]\n",
    "        t = t_mb[:, i, :]\n",
    "        output_layer.backward(x, y, t)\n",
    "        grad_x_out = output_layer.grad_x\n",
    "        \n",
    "        # RNN층\n",
    "        x = x_mb[:, i, :]\n",
    "        y = y_rnn[:, i+1, :]\n",
    "        y_prev = y_rnn[:, i, :]\n",
    "        rnn_layer.backward(x, y, y_prev, grad_y+grad_x_out)\n",
    "        grad_y = rnn_layer.grad_y_prev\n",
    "        \n",
    "    # 파라미터 갱신\n",
    "    rnn_layer.update(eta)\n",
    "    output_layer.update(eta)\n",
    "    return y_out\n",
    "\n",
    "# 오차 계산\n",
    "def get_error(y, t):\n",
    "    return 1.0/2.0*np.sum(np.square(y - t))  # 오차제곱합\n",
    "\n",
    "for i in range(n_learn):\n",
    "    # 무작위 10진수\n",
    "    num1 = np.random.randint(max_num//2)\n",
    "    num2 = np.random.randint(max_num//2)\n",
    "    \n",
    "    # 입력 데이터 생성\n",
    "    x1 = binaries[num1]\n",
    "    x2 = binaries[num2]\n",
    "    x_in = np.zeros((1, n_time, n_in))\n",
    "    x_in[0, :, 0] = x1\n",
    "    x_in[0, :, 1] = x2\n",
    "    x_in = np.flip(x_in, axis=1)             # 작은 자릿수를 과거 시점으로\n",
    "    \n",
    "    # 정답 데이터 준비\n",
    "    t = binaries[num1+num2]\n",
    "    t_in = t.reshape(1, n_time, n_out)\n",
    "    t_in = np.flip(t_in, axis=1)\n",
    "    \n",
    "    # 훈련\n",
    "    y_out = train(x_in, t_in)\n",
    "    y = np.flip(y_out, axis=1).reshape(-1)\n",
    "    \n",
    "    # 오차 구하기\n",
    "    error = get_error(y_out, t_in)\n",
    "    \n",
    "    # 경과 표시\n",
    "    if i%interval == 0:\n",
    "        y2 = np.where(y<0.5, 0, 1)  # 2진수 결과\n",
    "        y10 = 0                     # 10진수 결과\n",
    "        for j in range(len(y)):\n",
    "            pow2 = 2 ** (n_time-1-j)  # 2의 거듭제곱\n",
    "            y10 += y2[j] * pow2\n",
    "            \n",
    "        print(\"n_learn:\", i)\n",
    "        print(\"error:\", error)\n",
    "        print(\"output :\", y2)\n",
    "        print(\"correct:\", t)\n",
    "        \n",
    "        c = \"\\(^_^)/ :\" if (y2 == t).all() else \"orz: \"\n",
    "        print(c + str(num1) + \" + \" + str(num2) + \" = \" + str(y10))\n",
    "        print(\"-- -- -- -- -- -- -- -- -- -- -- -- -- -- --\")\n",
    "    \n",
    "    "
   ]
  },
  {
   "cell_type": "code",
   "execution_count": null,
   "metadata": {},
   "outputs": [],
   "source": []
  }
 ],
 "metadata": {
  "kernelspec": {
   "display_name": "Python 3",
   "language": "python",
   "name": "python3"
  },
  "language_info": {
   "codemirror_mode": {
    "name": "ipython",
    "version": 3
   },
   "file_extension": ".py",
   "mimetype": "text/x-python",
   "name": "python",
   "nbconvert_exporter": "python",
   "pygments_lexer": "ipython3",
   "version": "3.7.9"
  }
 },
 "nbformat": 4,
 "nbformat_minor": 4
}
